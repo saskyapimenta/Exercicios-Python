{
  "nbformat": 4,
  "nbformat_minor": 0,
  "metadata": {
    "colab": {
      "provenance": [],
      "collapsed_sections": [
        "QUOppl1NXWOK",
        "uBrYEJN2YpPu"
      ],
      "mount_file_id": "1fqH9SSuVZEQh-UtTwjBDqS6lBrgK0NAL",
      "authorship_tag": "ABX9TyNBEBX66xFME8RD8KkyisYm"
    },
    "kernelspec": {
      "name": "python3",
      "display_name": "Python 3"
    },
    "language_info": {
      "name": "python"
    }
  },
  "cells": [
    {
      "cell_type": "markdown",
      "source": [
        "# Exercícios elementares"
      ],
      "metadata": {
        "id": "MxNZjZBlYN2S"
      }
    },
    {
      "cell_type": "code",
      "source": [
        "#construir uma lista com a sequência de números de 0 a 100 usando o for\n",
        "lista = []\n",
        "for i in range (101):\n",
        "  lista.append(i)\n",
        "print(lista)"
      ],
      "metadata": {
        "id": "o5xJm7ekhCkE",
        "colab": {
          "base_uri": "https://localhost:8080/"
        },
        "outputId": "694bf0cc-92f9-4526-a154-6c3fcb4a9fbd"
      },
      "execution_count": 3,
      "outputs": [
        {
          "output_type": "stream",
          "name": "stdout",
          "text": [
            "[0, 1, 2, 3, 4, 5, 6, 7, 8, 9, 10, 11, 12, 13, 14, 15, 16, 17, 18, 19, 20, 21, 22, 23, 24, 25, 26, 27, 28, 29, 30, 31, 32, 33, 34, 35, 36, 37, 38, 39, 40, 41, 42, 43, 44, 45, 46, 47, 48, 49, 50, 51, 52, 53, 54, 55, 56, 57, 58, 59, 60, 61, 62, 63, 64, 65, 66, 67, 68, 69, 70, 71, 72, 73, 74, 75, 76, 77, 78, 79, 80, 81, 82, 83, 84, 85, 86, 87, 88, 89, 90, 91, 92, 93, 94, 95, 96, 97, 98, 99, 100]\n"
          ]
        }
      ]
    },
    {
      "cell_type": "code",
      "source": [
        "#Encontre o elemento 97 da lista(quando encontrar printe um \"encontrei\")\n",
        "\n",
        "for i in (lista):\n",
        "  if i == 97:\n",
        "    print('Encontrei!')"
      ],
      "metadata": {
        "colab": {
          "base_uri": "https://localhost:8080/"
        },
        "id": "aMHjeIbRZudI",
        "outputId": "910500e7-40a4-4891-dcb2-02cee7b03a56"
      },
      "execution_count": 4,
      "outputs": [
        {
          "output_type": "stream",
          "name": "stdout",
          "text": [
            "Encontrei!\n"
          ]
        }
      ]
    },
    {
      "cell_type": "code",
      "source": [
        "#Encontre o elemento 97 da lista(quando encontrar printe um \"encontrei\")\n",
        "for i in range(len(lista)):\n",
        "  if lista[i] == 97:\n",
        "    print('Encontrei!')"
      ],
      "metadata": {
        "colab": {
          "base_uri": "https://localhost:8080/"
        },
        "id": "HMSVWEvUcacO",
        "outputId": "2dbe31d0-a9ae-458c-b5fd-30be47d0bba6"
      },
      "execution_count": 5,
      "outputs": [
        {
          "output_type": "stream",
          "name": "stdout",
          "text": [
            "Encontrei!\n"
          ]
        }
      ]
    },
    {
      "cell_type": "code",
      "source": [
        "#função que multiplica uma lista por 2\n",
        "def mult_lista(lista):\n",
        "  lista_mult = []\n",
        "  for i in range(len(lista)):\n",
        "    lista_mult.append(lista[i]* 2)\n",
        "\n",
        "  return lista_mult\n",
        "\n",
        "print(mult_lista(lista))"
      ],
      "metadata": {
        "colab": {
          "base_uri": "https://localhost:8080/"
        },
        "id": "TA2It5jOlIa-",
        "outputId": "f6676da5-4a2e-4f25-eb38-56aab4dff0b6"
      },
      "execution_count": 6,
      "outputs": [
        {
          "output_type": "stream",
          "name": "stdout",
          "text": [
            "[0, 2, 4, 6, 8, 10, 12, 14, 16, 18, 20, 22, 24, 26, 28, 30, 32, 34, 36, 38, 40, 42, 44, 46, 48, 50, 52, 54, 56, 58, 60, 62, 64, 66, 68, 70, 72, 74, 76, 78, 80, 82, 84, 86, 88, 90, 92, 94, 96, 98, 100, 102, 104, 106, 108, 110, 112, 114, 116, 118, 120, 122, 124, 126, 128, 130, 132, 134, 136, 138, 140, 142, 144, 146, 148, 150, 152, 154, 156, 158, 160, 162, 164, 166, 168, 170, 172, 174, 176, 178, 180, 182, 184, 186, 188, 190, 192, 194, 196, 198, 200]\n"
          ]
        }
      ]
    },
    {
      "cell_type": "code",
      "source": [
        "#entre com um número e verifique se ele é positivo, negativo ou zero\n",
        "num = int(input('Entre com um numero inteiro: \\n'))"
      ],
      "metadata": {
        "colab": {
          "base_uri": "https://localhost:8080/"
        },
        "id": "gfie2cRahxVF",
        "outputId": "c10bf7fd-d271-430b-cdd9-5829072d9c7d"
      },
      "execution_count": 7,
      "outputs": [
        {
          "name": "stdout",
          "output_type": "stream",
          "text": [
            "Entre com um numero inteiro: \n",
            "2\n"
          ]
        }
      ]
    },
    {
      "cell_type": "code",
      "source": [
        "if num > 0 :\n",
        "  print(\"Número positivo\")\n",
        "\n",
        "elif num < 0:\n",
        "  print(\"Número negativo\")\n",
        "\n",
        "else:\n",
        "   print(\"Número é zero\")"
      ],
      "metadata": {
        "id": "vqF_oQWaidk1",
        "colab": {
          "base_uri": "https://localhost:8080/"
        },
        "outputId": "685913b6-52bb-4e25-8bfe-b934ea349838"
      },
      "execution_count": 8,
      "outputs": [
        {
          "output_type": "stream",
          "name": "stdout",
          "text": [
            "Número positivo\n"
          ]
        }
      ]
    },
    {
      "cell_type": "code",
      "source": [
        "num = [3, -9, -7, -8, -4, -8, -10, 2, 7, -4, -7, -10, 9, -8, -6, 2, 1, -9, -8, 2]\n",
        "\n",
        "matri = [12345, 12223, 123234, 345363, 341231, 456463, 524131, 354342, 49511, 234121]\n",
        "\n",
        "nome = ['Amarildo', 'Ana Paula', 'Carol', 'Daniel Moura', 'Daniel Pokémon', 'Alex', 'Eduarda', 'Saskya', 'Farrapo', 'Wallisson']\n"
      ],
      "metadata": {
        "id": "pIy-Nuffk0gB"
      },
      "execution_count": 10,
      "outputs": []
    },
    {
      "cell_type": "code",
      "source": [
        "#para todos os numeros da lista, verifique e imprim se eles são positivos, negativos ou zero\n",
        "\n",
        "for i in range(len(num)):\n",
        "  if num[i] > 0 :\n",
        "    print(\"Número positivo\")\n",
        "\n",
        "  elif num[i]< 0:\n",
        "    print(\"Número negativo\")\n",
        "\n",
        "  else:\n",
        "    print(\"Número é zero\")"
      ],
      "metadata": {
        "id": "3CpAtkOIl90E",
        "colab": {
          "base_uri": "https://localhost:8080/"
        },
        "outputId": "d17063d3-3315-4b07-ccda-20dd56e37f96"
      },
      "execution_count": 11,
      "outputs": [
        {
          "output_type": "stream",
          "name": "stdout",
          "text": [
            "Número positivo\n",
            "Número negativo\n",
            "Número negativo\n",
            "Número negativo\n",
            "Número negativo\n",
            "Número negativo\n",
            "Número negativo\n",
            "Número positivo\n",
            "Número positivo\n",
            "Número negativo\n",
            "Número negativo\n",
            "Número negativo\n",
            "Número positivo\n",
            "Número negativo\n",
            "Número negativo\n",
            "Número positivo\n",
            "Número positivo\n",
            "Número negativo\n",
            "Número negativo\n",
            "Número positivo\n"
          ]
        }
      ]
    },
    {
      "cell_type": "code",
      "source": [
        "# Dados os vetores de matrículas e nome, faça um programa cuja a entrada é a sua matrícua e imprima o seu nome, com base nas lista de nomes\n",
        "\n",
        "matricula = int(input('Entre com a sua matrícula: \\n'))\n",
        "\n",
        "\n",
        "for i in range(len(nome)) :\n",
        "  if (matricula == matri[i]):\n",
        "    print(\"nome:\"+str(nome[i]))\n"
      ],
      "metadata": {
        "id": "tgD7Rujgojea",
        "colab": {
          "base_uri": "https://localhost:8080/"
        },
        "outputId": "ac3b2377-fe6f-4802-d7e5-83f9c0b33474"
      },
      "execution_count": 12,
      "outputs": [
        {
          "output_type": "stream",
          "name": "stdout",
          "text": [
            "Entre com a sua matrícula: \n",
            "12223\n",
            "nome:Ana Paula\n"
          ]
        }
      ]
    },
    {
      "cell_type": "code",
      "source": [
        "\n",
        "#Faça uma função que verifique se uma palavra é palindromo \n",
        "\n",
        "def Palindromo (palavra):\n",
        "  n = len(palavra)//2\n",
        "  j = -1\n",
        "  for i in range(n):\n",
        "    if palavra[i] != palavra[j]:\n",
        "     return False\n",
        "   # i = i + 1\n",
        "    j = j - 1 \n",
        "  return True\n",
        "\n",
        "\n",
        "palavra = input()\n",
        "if(Palindromo(palavra)):\n",
        "  print(\"sim\")\n",
        "else:\n",
        "  print(\"no\")"
      ],
      "metadata": {
        "id": "XwgbFApn0XvD",
        "colab": {
          "base_uri": "https://localhost:8080/"
        },
        "outputId": "0049651d-ea73-4a21-e964-d93c7ae5fb5f"
      },
      "execution_count": 13,
      "outputs": [
        {
          "output_type": "stream",
          "name": "stdout",
          "text": [
            "ava\n",
            "sim\n"
          ]
        }
      ]
    },
    {
      "cell_type": "code",
      "source": [
        "#Faça uma função que calcule a tabuada\n",
        "\n",
        "def Tabuada():\n",
        "  for i in range(11):\n",
        "    print('tabuada de ' + str(i))\n",
        "    for j in range(11):\n",
        "      print(\"{}x{}={}\".format(i,j, i*j)) \n",
        "\n",
        "Tabuada()"
      ],
      "metadata": {
        "id": "PvZVkQ07a8Al",
        "colab": {
          "base_uri": "https://localhost:8080/"
        },
        "outputId": "3efdc45d-fe13-45e3-9b11-5d72facf46f4"
      },
      "execution_count": 14,
      "outputs": [
        {
          "output_type": "stream",
          "name": "stdout",
          "text": [
            "tabuada de 0\n",
            "0x0=0\n",
            "0x1=0\n",
            "0x2=0\n",
            "0x3=0\n",
            "0x4=0\n",
            "0x5=0\n",
            "0x6=0\n",
            "0x7=0\n",
            "0x8=0\n",
            "0x9=0\n",
            "0x10=0\n",
            "tabuada de 1\n",
            "1x0=0\n",
            "1x1=1\n",
            "1x2=2\n",
            "1x3=3\n",
            "1x4=4\n",
            "1x5=5\n",
            "1x6=6\n",
            "1x7=7\n",
            "1x8=8\n",
            "1x9=9\n",
            "1x10=10\n",
            "tabuada de 2\n",
            "2x0=0\n",
            "2x1=2\n",
            "2x2=4\n",
            "2x3=6\n",
            "2x4=8\n",
            "2x5=10\n",
            "2x6=12\n",
            "2x7=14\n",
            "2x8=16\n",
            "2x9=18\n",
            "2x10=20\n",
            "tabuada de 3\n",
            "3x0=0\n",
            "3x1=3\n",
            "3x2=6\n",
            "3x3=9\n",
            "3x4=12\n",
            "3x5=15\n",
            "3x6=18\n",
            "3x7=21\n",
            "3x8=24\n",
            "3x9=27\n",
            "3x10=30\n",
            "tabuada de 4\n",
            "4x0=0\n",
            "4x1=4\n",
            "4x2=8\n",
            "4x3=12\n",
            "4x4=16\n",
            "4x5=20\n",
            "4x6=24\n",
            "4x7=28\n",
            "4x8=32\n",
            "4x9=36\n",
            "4x10=40\n",
            "tabuada de 5\n",
            "5x0=0\n",
            "5x1=5\n",
            "5x2=10\n",
            "5x3=15\n",
            "5x4=20\n",
            "5x5=25\n",
            "5x6=30\n",
            "5x7=35\n",
            "5x8=40\n",
            "5x9=45\n",
            "5x10=50\n",
            "tabuada de 6\n",
            "6x0=0\n",
            "6x1=6\n",
            "6x2=12\n",
            "6x3=18\n",
            "6x4=24\n",
            "6x5=30\n",
            "6x6=36\n",
            "6x7=42\n",
            "6x8=48\n",
            "6x9=54\n",
            "6x10=60\n",
            "tabuada de 7\n",
            "7x0=0\n",
            "7x1=7\n",
            "7x2=14\n",
            "7x3=21\n",
            "7x4=28\n",
            "7x5=35\n",
            "7x6=42\n",
            "7x7=49\n",
            "7x8=56\n",
            "7x9=63\n",
            "7x10=70\n",
            "tabuada de 8\n",
            "8x0=0\n",
            "8x1=8\n",
            "8x2=16\n",
            "8x3=24\n",
            "8x4=32\n",
            "8x5=40\n",
            "8x6=48\n",
            "8x7=56\n",
            "8x8=64\n",
            "8x9=72\n",
            "8x10=80\n",
            "tabuada de 9\n",
            "9x0=0\n",
            "9x1=9\n",
            "9x2=18\n",
            "9x3=27\n",
            "9x4=36\n",
            "9x5=45\n",
            "9x6=54\n",
            "9x7=63\n",
            "9x8=72\n",
            "9x9=81\n",
            "9x10=90\n",
            "tabuada de 10\n",
            "10x0=0\n",
            "10x1=10\n",
            "10x2=20\n",
            "10x3=30\n",
            "10x4=40\n",
            "10x5=50\n",
            "10x6=60\n",
            "10x7=70\n",
            "10x8=80\n",
            "10x9=90\n",
            "10x10=100\n"
          ]
        }
      ]
    },
    {
      "cell_type": "code",
      "source": [
        "#Faça uma função que calcule o fatorial de um número dado como entrada\n",
        "\n",
        "def Fatorial (n):\n",
        "  if n == 0 or n == 1 : \n",
        "    return 1\n",
        "  fat = 1\n",
        "  for i in range(2,n+1):\n",
        "    fat = fat*i\n",
        "  return fat\n",
        "\n",
        "n = int(input())\n",
        "\n",
        "print(Fatorial(n))"
      ],
      "metadata": {
        "id": "3_5eBmAPkbDm",
        "colab": {
          "base_uri": "https://localhost:8080/"
        },
        "outputId": "ed1ab24f-a0cf-45d3-9feb-ea067fcd7b67"
      },
      "execution_count": 15,
      "outputs": [
        {
          "output_type": "stream",
          "name": "stdout",
          "text": [
            "2\n",
            "2\n"
          ]
        }
      ]
    },
    {
      "cell_type": "code",
      "source": [
        "'''Faca uma função que ordene um vetor de 100 n ́umeros, passando o vetor\n",
        "como entrada da função. (Obs.: não usem código do tipo x, y = y, x para\n",
        "trocar os valores do vetor, isso só funciona em python!)'''\n",
        "\n",
        "lista = [9,1,5,3,6]\n",
        "\n",
        "def ord (lista):\n",
        "\n",
        "  for i in range(0,len(lista)):\n",
        "    for j in range(0,len(lista)):\n",
        "      if lista[i] < lista[j]:\n",
        "        li = lista[i]\n",
        "        lista[i] = lista[j]\n",
        "        lista[j] = li\n",
        "  return lista\n",
        "\n",
        "print(ord(lista))\n"
      ],
      "metadata": {
        "id": "IQqI34l_Pm7E",
        "colab": {
          "base_uri": "https://localhost:8080/"
        },
        "outputId": "b216774b-85bf-42da-95e0-d785dbd8e374"
      },
      "execution_count": 16,
      "outputs": [
        {
          "output_type": "stream",
          "name": "stdout",
          "text": [
            "[1, 3, 5, 6, 9]\n"
          ]
        }
      ]
    },
    {
      "cell_type": "code",
      "source": [
        "#Faça um programa que, dado um vetor, determine o menor valor, o maior valor e a soma dos valores.\n",
        "\n",
        "def vetor_metrics(vetor):\n",
        "  import numpy as np\n",
        "  num_maior = 0\n",
        "  num_menor = np.Infinity\n",
        "  soma = 0\n",
        "  for i in range(len(vetor)):\n",
        "    if vetor[i] > num_maior:\n",
        "        num_maior = vetor[i]\n",
        "    if vetor[i] < num_menor:\n",
        "        num_menor = vetor[i]\n",
        "    soma += vetor[i]\n",
        "  return num_maior, num_menor, soma\n",
        "\n",
        "vetor = [1,2,3,4,5]\n",
        "print(vetor_metrics(vetor))\n",
        "\n"
      ],
      "metadata": {
        "colab": {
          "base_uri": "https://localhost:8080/"
        },
        "id": "ndLofe6QP72A",
        "outputId": "011b6d93-f576-4914-d555-1995e453e301"
      },
      "execution_count": 17,
      "outputs": [
        {
          "output_type": "stream",
          "name": "stdout",
          "text": [
            "(5, 1, 15)\n"
          ]
        }
      ]
    },
    {
      "cell_type": "code",
      "source": [
        "#Faça uma função que determine se um numero, dado como entrada,é primo.\n",
        "\n",
        "\n",
        "\n",
        "def primo(n):\n",
        "\n",
        "  for i in range(2,n-1):\n",
        "    if n%i==0:\n",
        "      print('n eh primo')\n",
        "      return # só utilizado em função\n",
        "  print('eh primo')\n",
        "\n",
        "primo(13)"
      ],
      "metadata": {
        "id": "LmqzBAUbP-7D",
        "colab": {
          "base_uri": "https://localhost:8080/"
        },
        "outputId": "8d475e37-b755-4ac4-d10a-822e5034ea40"
      },
      "execution_count": 18,
      "outputs": [
        {
          "output_type": "stream",
          "name": "stdout",
          "text": [
            "eh primo\n"
          ]
        }
      ]
    },
    {
      "cell_type": "code",
      "source": [
        "#Faça uma função que peça um numero inteiro positivo e em seguida mostre este numero invertido.\n",
        "\n",
        "def invert(n):\n",
        "  numero = ''\n",
        "  for i in range(len(n)-1, -1, -1): # len(n)-1 indices do vetor ex: 123 [0,1,2], ultimo elemento, passo \n",
        "      numero = numero + n[i]\n",
        "  return numero \n",
        "  \n",
        "n =input()\n",
        "\n",
        "print(invert(n))"
      ],
      "metadata": {
        "id": "eqHGl8JoQCd0",
        "colab": {
          "base_uri": "https://localhost:8080/"
        },
        "outputId": "ceae9dfa-d29b-4e6c-c385-b494e2072f74"
      },
      "execution_count": 19,
      "outputs": [
        {
          "output_type": "stream",
          "name": "stdout",
          "text": [
            "3\n",
            "3\n"
          ]
        }
      ]
    },
    {
      "cell_type": "code",
      "source": [
        "#Faça uma função que retorne apenas os números  ́ımpares dado um vetor de inteiros.\n",
        "\n",
        "lista = [1,2,3,4,5,6,7,8,9,10]\n",
        "\n",
        "def impares(lista):\n",
        "  result = []\n",
        "  for elemento in lista:\n",
        "      if elemento %2 == 1:\n",
        "        result.append(elemento)\n",
        "  return result\n",
        "\n",
        "print(impares(lista))"
      ],
      "metadata": {
        "id": "DmcUi3igQGVb",
        "colab": {
          "base_uri": "https://localhost:8080/"
        },
        "outputId": "3b7077dc-0b1b-4926-b00a-093add11629c"
      },
      "execution_count": 20,
      "outputs": [
        {
          "output_type": "stream",
          "name": "stdout",
          "text": [
            "[1, 3, 5, 7, 9]\n"
          ]
        }
      ]
    },
    {
      "cell_type": "code",
      "source": [
        "#Fa ̧ca uma fun ̧c ̃ao que, dada uma lista, retorne a posi ̧c ̃ao da primeira apari ̧c ̃ao do elemento 5 nessa lista. Obs.: Use while.\n",
        "\n",
        "def cinco (lista):\n",
        "  i = 0\n",
        "  achou = False\n",
        "  while(i < len(lista)):\n",
        "    if ( lista[i] == 5 ):\n",
        "      achou = True\n",
        "      return i, achou\n",
        "    i+=1\n",
        "  return i, achou\n",
        "lista = [0, 0, 8, 2, 1, 7, 9, 4, 17, 12, 4, 5, 11, 18, 11, 13, 5, 16, 4, 14]\n",
        "print(cinco(lista))"
      ],
      "metadata": {
        "colab": {
          "base_uri": "https://localhost:8080/"
        },
        "id": "OdG-zw8bbjov",
        "outputId": "b2942f67-db86-4cfa-856a-a0c3bf3b6828"
      },
      "execution_count": 21,
      "outputs": [
        {
          "output_type": "stream",
          "name": "stdout",
          "text": [
            "(11, True)\n"
          ]
        }
      ]
    },
    {
      "cell_type": "code",
      "source": [
        "#Faca um programa, que peca um numero. E diga se ele  ́e par ou impar. O programa deve continuar enquanto o numero digitado for diferente de zero.\n",
        "\n",
        "def ParouImpar(n):\n",
        "  if ( n%2 == 0):\n",
        "    return True\n",
        "  elif ( n%2 == 1):\n",
        "    return False\n",
        "  \n",
        "  \n",
        "n=1\n",
        "while(n!=0):\n",
        "  n = int(input())\n",
        "  if(ParouImpar(n)):\n",
        "    print(\"Par\")\n",
        "  else:\n",
        "    print(\"Ímpar\")\n"
      ],
      "metadata": {
        "id": "M3RR1iTzmKno",
        "colab": {
          "base_uri": "https://localhost:8080/"
        },
        "outputId": "e227c83b-fea1-4201-8d2b-4f37da07a23d"
      },
      "execution_count": 22,
      "outputs": [
        {
          "output_type": "stream",
          "name": "stdout",
          "text": [
            "2\n",
            "Par\n",
            "3\n",
            "Ímpar\n",
            "0\n",
            "Par\n"
          ]
        }
      ]
    },
    {
      "cell_type": "code",
      "source": [
        "#Faca um programa que tenha como entrada uma ora ̧c ̃ao (frase) e retorne a quantidade de palavras dessa string.\n",
        "\n",
        "oracao = 'Garfield  ́e o gato do departamento.'\n",
        "\n",
        "def quant_palavras(oracao):\n",
        "  i=0\n",
        "  palavras = 0\n",
        "  while (i<len(oracao)):\n",
        "    if oracao[i]==' ':\n",
        "     palavras += 1\n",
        "    i += 1 \n",
        "  return palavras\n",
        "\n",
        "print(quant_palavras(oracao))\n"
      ],
      "metadata": {
        "colab": {
          "base_uri": "https://localhost:8080/"
        },
        "id": "13IMOtvpuR2_",
        "outputId": "a2b067c9-89f8-4729-92bc-f9f7ceb163a7"
      },
      "execution_count": 23,
      "outputs": [
        {
          "output_type": "stream",
          "name": "stdout",
          "text": [
            "6\n"
          ]
        }
      ]
    },
    {
      "cell_type": "code",
      "source": [
        "import numpy as np\n",
        "\n",
        "i = 1\n",
        "a = np.random.randint(1, 10)\n",
        "b = np.random.randint(1, 10)\n",
        "print_pergunta = True\n",
        "while i == 1 :\n",
        "  if print_pergunta:\n",
        "    print(\"Quanto é {} x {}?\".format(a,b))\n",
        "  n = int(input(\"Esperando resposta: \"))\n",
        "  if n == a*b:\n",
        "    print(\"Parabéns! Você acertou!\")\n",
        "    break\n",
        "  else:\n",
        "    print(\"Errado :(\")\n",
        "    print_pergunta = False   \n",
        "\n"
      ],
      "metadata": {
        "id": "4xVEjcvcsvvZ",
        "outputId": "0e8814a5-f6d9-48e7-93c5-c6241216af1e",
        "colab": {
          "base_uri": "https://localhost:8080/"
        }
      },
      "execution_count": 24,
      "outputs": [
        {
          "output_type": "stream",
          "name": "stdout",
          "text": [
            "Quanto é 4 x 5?\n",
            "Esperando resposta: 20\n",
            "Parabéns! Você acertou!\n"
          ]
        }
      ]
    },
    {
      "cell_type": "markdown",
      "source": [
        "#Exercícios complementares"
      ],
      "metadata": {
        "id": "QUOppl1NXWOK"
      }
    },
    {
      "cell_type": "code",
      "execution_count": null,
      "metadata": {
        "id": "x7qCxwZrh26h"
      },
      "outputs": [],
      "source": [
        "vl1 = input ('Digite o primeiro valor: ')\n",
        "vl2 = input ('Digite o segundo valor: ')\n",
        "op = input ('Digite * para multiplicação, / para divisão, + para soma ou - para subtração :')\n",
        "\n",
        "vl1 = int(vl1)\n",
        "vl2 = int(vl2)\n",
        "op = str(op)\n",
        "\n",
        "if op == \"*\" :\n",
        " print (\"{}*{}={}\".format(vl1,vl2, vl1*vl2)) \n",
        "elif op == \"/\":\n",
        " print (vl1 / vl2)\n",
        "elif op == \"+\":\n",
        " print (vl1 + vl2) \n",
        "elif op == \"-\":\n",
        " print (vl1 - vl2) \n",
        "\n"
      ]
    },
    {
      "cell_type": "code",
      "source": [
        "valor_real = [5,10,7,-1]\n",
        "estimativas = [7,11,15,-5]\n",
        "\n",
        "def MSE(real,est):# real e est são parametros \n",
        "  res=0\n",
        "  for r,e in zip(real,est): # e e r são variavéis que guardam os valores de  real e est\n",
        "    res += (r-e)**2\n",
        "  res /= len(real)\n",
        "  return res\n",
        "\n",
        "MSE(valor_real,estimativas)"
      ],
      "metadata": {
        "id": "noRce-6hLSlX"
      },
      "execution_count": null,
      "outputs": []
    },
    {
      "cell_type": "code",
      "source": [
        "\n",
        "lista1 = [\"um\",\"dois\",\"tres\"]\n",
        "lista2 = [1,2,3]\n",
        "\n",
        "Dic = {'quatro':4} #inic o dicionario\n",
        "\n",
        "for  num, num2 in zip(lista1,lista2):\n",
        " Dic[num] = num2 # adicionar itens ao dicionario\n",
        "\n",
        "for c, v in Dic.items():  # percorre e imprime os pares de valores\n",
        "\n",
        "  print(\" {} {}\".format(c,v))"
      ],
      "metadata": {
        "id": "EHDGS_qRSp2r"
      },
      "execution_count": null,
      "outputs": []
    },
    {
      "cell_type": "code",
      "source": [
        "import pandas as pd\n",
        "\n"
      ],
      "metadata": {
        "id": "lH9ojT7rqSpe"
      },
      "execution_count": null,
      "outputs": []
    },
    {
      "cell_type": "code",
      "source": [
        "tabela = pd.read_csv('/content/drive/MyDrive/covid_10000.csv',low_memory=False)\n"
      ],
      "metadata": {
        "id": "i-uYe0JWqiTR"
      },
      "execution_count": null,
      "outputs": []
    },
    {
      "cell_type": "code",
      "source": [
        "#consultas pessoas 30<idade<60\n",
        "idade60 = tabela[tabela['idadeCaso'] < 60]\n",
        "idade30 = idade60[idade60['idadeCaso'] > 30]\n",
        "\n",
        "idade = len(idade30)\n",
        "\n",
        "print(idade)\n"
      ],
      "metadata": {
        "colab": {
          "base_uri": "https://localhost:8080/"
        },
        "id": "eZQGQTN5rNzd",
        "outputId": "3b735e11-de53-4b0d-f4e0-8168b7d593d4"
      },
      "execution_count": null,
      "outputs": [
        {
          "output_type": "stream",
          "name": "stdout",
          "text": [
            "5140\n"
          ]
        }
      ]
    },
    {
      "cell_type": "code",
      "source": [
        "#número de pessoas em fortaleza\n",
        "\n",
        "fort = tabela[tabela['municipioCaso']=='FORTALEZA']\n",
        "\n",
        "pop_fort = len(fort)\n",
        "\n",
        "print(pop_fort)"
      ],
      "metadata": {
        "colab": {
          "base_uri": "https://localhost:8080/"
        },
        "id": "h7GRGsbqyAlS",
        "outputId": "86055ad2-967b-4807-fc8e-041eea382738"
      },
      "execution_count": null,
      "outputs": [
        {
          "output_type": "stream",
          "name": "stdout",
          "text": [
            "2012\n"
          ]
        }
      ]
    },
    {
      "cell_type": "code",
      "source": [
        "#porcentagem de pessoas do sexxo masculino\n",
        "\n",
        "homens = tabela[tabela['sexoCaso']=='MASCULINO']\n",
        "num_homens = len(homens)\n",
        "\n",
        "total_ind = len(tabela)\n",
        "porcentagem = (num_homens/total_ind )*100\n",
        "\n",
        "print(porcentagem)"
      ],
      "metadata": {
        "colab": {
          "base_uri": "https://localhost:8080/"
        },
        "id": "MJoz5vsxyx61",
        "outputId": "db6574a5-a087-4899-cf38-8e2109bc8092"
      },
      "execution_count": null,
      "outputs": [
        {
          "output_type": "stream",
          "name": "stdout",
          "text": [
            "47.96\n"
          ]
        }
      ]
    },
    {
      "cell_type": "code",
      "source": [
        "\n",
        "# Função que recebe palavra como parâmetro\n",
        "# e retornar True se ela for palindromo\n",
        "# e False caso contrário\n",
        "def EhPalindromo(palavra):\n",
        "  n = (len(palavra)//2)\n",
        "  j = -1\n",
        "  i = 0\n",
        "  for p in range(n):\n",
        "    if palavra[i] != palavra[j]:\n",
        "     return False\n",
        "    i = i +1\n",
        "    j = j -1\n",
        "  return True\n",
        "\n",
        "    \n",
        "      \n",
        "\n",
        "  \n",
        "palavras = [\"reviver\", \"racificar\", \"regar\", \"repaper\", \"kiak\"]\n",
        "\n",
        "for p in palavras:\n",
        "    if EhPalindromo(p):\n",
        "        print(\"Sim\")\n",
        "    else:\n",
        "        print(\"Não\")\n",
        "\n"
      ],
      "metadata": {
        "colab": {
          "base_uri": "https://localhost:8080/"
        },
        "id": "-p_vVi7daU18",
        "outputId": "c26497cb-ca5c-40f5-b30f-ee5e4380070c"
      },
      "execution_count": null,
      "outputs": [
        {
          "output_type": "stream",
          "name": "stdout",
          "text": [
            "Sim\n",
            "Sim\n",
            "Não\n",
            "Sim\n",
            "Não\n"
          ]
        }
      ]
    },
    {
      "cell_type": "code",
      "source": [
        "'''O programa deverá perguntar ao usuário o valor do saque e depois informar quantas notas de cada valor serão fornecidas.\n",
        "\n",
        "As notas disponíveis serão as de 1, 5, 10, 50 e 100 reais.\n",
        "\n",
        "O programa não deve se preocupar com a quantidade de notas existentes na máquina.\n",
        "\n",
        "Exemplo 1: Para sacar a quantia de 256 reais, o programa fornece duas notas de 100, uma nota de 50, uma nota de 5 e uma nota de 1;\n",
        "\n",
        "Exemplo 2: Para sacar a quantia de 399 reais, o programa fornece três notas de 100, uma nota de 50, quatro notas de 10, uma nota de 5 e quatro notas de 1.'''\n",
        "\n",
        "\n",
        "def saque(valor):\n",
        "   \n",
        "    n1 = 0\n",
        "    n5 = 0\n",
        "    n10 = 0\n",
        "    n50 = 0\n",
        "    n100 = 0\n",
        "    \n",
        "    n100 = valor//100\n",
        "    valor50 = valor%100\n",
        "    n50 = valor50//50\n",
        "    valor10 = valor50%50\n",
        "    n10 = valor10//10\n",
        "    valor5 = valor10%10\n",
        "    n5 = valor5//5\n",
        "    n1 = valor5%5\n",
        "    print(valor)\n",
        " \n",
        "    print(\"Notas 1: {}\\nNotas 5: {}\\nNotas 10: {}\\nNotas 50: {}\\nNotas 100: {}\\n\".format(n1, n5, n10, n50, n100))\n",
        "   \n",
        "while True:\n",
        "    valor = int(input(\"Quanto deseja sacar?\"))\n",
        "    if valor == 0:\n",
        "\n",
        "\n",
        "      \n",
        "        break\n",
        "    else:\n",
        "        saque(valor)"
      ],
      "metadata": {
        "colab": {
          "base_uri": "https://localhost:8080/"
        },
        "id": "sDbgxc-Qflc7",
        "outputId": "ebb6783b-afe3-4986-93b8-a89cbd15c11d"
      },
      "execution_count": null,
      "outputs": [
        {
          "name": "stdout",
          "output_type": "stream",
          "text": [
            "Quanto deseja sacar?0\n"
          ]
        }
      ]
    },
    {
      "cell_type": "code",
      "source": [],
      "metadata": {
        "id": "aaSyiM5WLrj3"
      },
      "execution_count": null,
      "outputs": []
    }
  ]
}